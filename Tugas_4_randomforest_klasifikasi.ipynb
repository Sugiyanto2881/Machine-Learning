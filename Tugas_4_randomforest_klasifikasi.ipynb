{
 "cells": [
  {
   "cell_type": "code",
   "execution_count": 1,
   "id": "8e9e629b-0577-4c97-8c06-47ed37f24946",
   "metadata": {},
   "outputs": [
    {
     "name": "stdout",
     "output_type": "stream",
     "text": [
      "=== Evaluasi Model ===\n",
      "Akurasi: 1.0\n",
      "\n",
      "Laporan Klasifikasi:\n",
      "\n",
      "              precision    recall  f1-score   support\n",
      "\n",
      "      setosa       1.00      1.00      1.00        10\n",
      "  versicolor       1.00      1.00      1.00         9\n",
      "   virginica       1.00      1.00      1.00        11\n",
      "\n",
      "    accuracy                           1.00        30\n",
      "   macro avg       1.00      1.00      1.00        30\n",
      "weighted avg       1.00      1.00      1.00        30\n",
      "\n",
      "Prediksi jenis bunga untuk sampel: setosa\n"
     ]
    }
   ],
   "source": [
    "# ============================================\n",
    "# Random Forest Classifier - Iris Dataset\n",
    "# ============================================\n",
    "\n",
    "# 1. Import library yang dibutuhkan\n",
    "import pandas as pd\n",
    "from sklearn.datasets import load_iris\n",
    "from sklearn.ensemble import RandomForestClassifier\n",
    "from sklearn.model_selection import train_test_split\n",
    "from sklearn.metrics import accuracy_score, classification_report\n",
    "\n",
    "# 2. Load dataset Iris\n",
    "iris = load_iris()\n",
    "X = iris.data               # fitur (sepal & petal)\n",
    "y = iris.target             # target (nama bunga)\n",
    "\n",
    "# 3. Split data menjadi training dan testing (80:20)\n",
    "X_train, X_test, y_train, y_test = train_test_split(\n",
    "    X, y, test_size=0.2, random_state=42\n",
    ")\n",
    "\n",
    "# 4. Inisialisasi dan latih model Random Forest\n",
    "model = RandomForestClassifier(\n",
    "    n_estimators=100,      # jumlah pohon\n",
    "    random_state=42\n",
    ")\n",
    "model.fit(X_train, y_train)\n",
    "\n",
    "# 5. Evaluasi model dengan data testing\n",
    "y_pred = model.predict(X_test)\n",
    "\n",
    "# 6. Tampilkan hasil evaluasi\n",
    "print(\"=== Evaluasi Model ===\")\n",
    "print(\"Akurasi:\", accuracy_score(y_test, y_pred))\n",
    "print(\"\\nLaporan Klasifikasi:\\n\")\n",
    "print(classification_report(y_test, y_pred, target_names=iris.target_names))\n",
    "\n",
    "# 7. Prediksi contoh data baru\n",
    "sample = [[5.1, 3.5, 1.4, 0.2]]  # contoh: sepal_length, sepal_width, petal_length, petal_width\n",
    "predicted_class = model.predict(sample)\n",
    "print(\"Prediksi jenis bunga untuk sampel:\", iris.target_names[predicted_class[0]])\n"
   ]
  },
  {
   "cell_type": "code",
   "execution_count": null,
   "id": "b3421161-faeb-4546-8b02-04ccd5e3b528",
   "metadata": {},
   "outputs": [],
   "source": []
  }
 ],
 "metadata": {
  "kernelspec": {
   "display_name": "Python 3 (ipykernel)",
   "language": "python",
   "name": "python3"
  },
  "language_info": {
   "codemirror_mode": {
    "name": "ipython",
    "version": 3
   },
   "file_extension": ".py",
   "mimetype": "text/x-python",
   "name": "python",
   "nbconvert_exporter": "python",
   "pygments_lexer": "ipython3",
   "version": "3.12.6"
  }
 },
 "nbformat": 4,
 "nbformat_minor": 5
}
